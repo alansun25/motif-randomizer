{
 "cells": [
  {
   "cell_type": "code",
   "execution_count": 5,
   "metadata": {},
   "outputs": [],
   "source": [
    "import networkx as nx\n",
    "import random"
   ]
  },
  {
   "cell_type": "code",
   "execution_count": 15,
   "metadata": {},
   "outputs": [],
   "source": [
    "# Get input graph.\n",
    "def get_graph():\n",
    "  try:\n",
    "    # Get input graph.\n",
    "    with open(input('Provide path to graph file: '), 'r') as input_graph:\n",
    "      G = nx.read_weighted_edgelist(input_graph, create_using=nx.DiGraph, nodetype = int)\n",
    "    input_graph.close()\n",
    "    \n",
    "    return G\n",
    "  except FileNotFoundError:\n",
    "    print(\"FileNotFoundError: Invalid file or directory. Check the file exists and try again.\")\n",
    "\n",
    "# Get motif of interest.\n",
    "def get_motif():\n",
    "  motifs = open('motifs.txt', 'r')\n",
    "  motif_prompt = motifs.read()\n",
    "  \n",
    "  chosen_motif = input(\n",
    "    motif_prompt + \"\\n\" +\n",
    "    \"Choose one motif listed above (1 - 13) of which you'll change its frequency: \"\n",
    "  )\n",
    "  while not chosen_motif.isnumeric() or int(chosen_motif) < 1 or int(chosen_motif) > 13:\n",
    "    chosen_motif = input(\n",
    "      motif_prompt + \"\\n\" + \"Please enter a number between 1 and 13: \"\n",
    "    )\n",
    "  \n",
    "  motifs.close()\n",
    "  \n",
    "  return chosen_motif\n",
    "\n",
    "# Get frequency change (increasing or decreasing).\n",
    "def get_freq_change():\n",
    "  freq = input(\"Increase or decrease frequency of motif? (i or d): \")\n",
    "  while freq != \"i\" and freq != \"d\":\n",
    "    freq = input(\"Please enter i or d: \")\n",
    "    \n",
    "  return freq"
   ]
  },
  {
   "cell_type": "code",
   "execution_count": 16,
   "metadata": {},
   "outputs": [],
   "source": [
    "# Select two random edges from a given edge list.\n",
    "def random_vertices(edges):\n",
    "  u = random.choice(edges)\n",
    "  v = random.choice(\n",
    "    # Enforce selection of two different edges without any shared nodes\n",
    "    [e for e in edges if len(set([u[0], u[1], e[0], e[1]])) == 4]\n",
    "  )\n",
    "  \n",
    "  return u, v\n",
    "\n",
    "# Swap two edges in graph G.\n",
    "#\n",
    "# TODO: Bias the edge swap (decide whether to accept or discard the edge swap \n",
    "# based on something related to the specified motif). Can accept swaps that \n",
    "# increase or keep frequency same (soft bias).\n",
    "def swap_edge(G, motif, freq):\n",
    "  edges = list(G.edges)\n",
    "  u, v = random_vertices(edges)\n",
    "\n",
    "  # Prevent multi-edge\n",
    "  while G.has_edge(u[0], v[1]) or G.has_edge(v[0], u[1]):\n",
    "    u, v = random_vertices(edges)\n",
    "\n",
    "  G.remove_edge(u[0], u[1])\n",
    "  G.remove_edge(v[0], v[1])\n",
    "  \n",
    "  G.add_edge(u[0], v[1])\n",
    "  G.add_edge(v[0], u[1])\n",
    "  \n",
    "  return G\n",
    "\n",
    "# Randomize graph G using biased link randomization, maintaining degree sequence.\n",
    "def randomize(G):\n",
    "  motif, freq = get_motif(), get_freq_change()\n",
    "  \n",
    "  steps = 10 * G.number_of_edges()\n",
    "  for _ in range(0, steps):\n",
    "    G = swap_edge(G, motif, freq)\n",
    "  \n",
    "  return G"
   ]
  },
  {
   "cell_type": "code",
   "execution_count": 17,
   "metadata": {},
   "outputs": [],
   "source": [
    "# Return the degree sequence of graph G.\n",
    "def degree_sequence(G):\n",
    "  return [d for _, d in G.degree()]\n",
    "\n",
    "# TODO: Characteristics of interest: changing of network parameters such as the\n",
    "# average clustering coefficient, assortativity coefficient, average shortest\n",
    "# path length, etc., during the randomization."
   ]
  },
  {
   "cell_type": "code",
   "execution_count": 18,
   "metadata": {},
   "outputs": [],
   "source": [
    "def main():\n",
    "  G = get_graph()\n",
    "  r_G = randomize(G)\n",
    "  \n",
    "  print(degree_sequence(G) == degree_sequence(r_G))"
   ]
  },
  {
   "cell_type": "code",
   "execution_count": 19,
   "metadata": {},
   "outputs": [
    {
     "name": "stdout",
     "output_type": "stream",
     "text": [
      "True\n"
     ]
    }
   ],
   "source": [
    "if __name__ == '__main__':\n",
    "  main()"
   ]
  }
 ],
 "metadata": {
  "interpreter": {
   "hash": "aee8b7b246df8f9039afb4144a1f6fd8d2ca17a180786b69acc140d282b71a49"
  },
  "kernelspec": {
   "display_name": "Python 3.9.9 64-bit",
   "language": "python",
   "name": "python3"
  },
  "language_info": {
   "codemirror_mode": {
    "name": "ipython",
    "version": 3
   },
   "file_extension": ".py",
   "mimetype": "text/x-python",
   "name": "python",
   "nbconvert_exporter": "python",
   "pygments_lexer": "ipython3",
   "version": "3.9.9"
  },
  "orig_nbformat": 4
 },
 "nbformat": 4,
 "nbformat_minor": 2
}
