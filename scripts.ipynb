{
 "cells": [
  {
   "cell_type": "code",
   "execution_count": 22,
   "metadata": {},
   "outputs": [],
   "source": [
    "import networkx as nx\n",
    "import random\n",
    "import itertools\n",
    "\n",
    "# networkx DiGraph representations of the drawn motifs in motifs.txt.\n",
    "motifs = {\n",
    "  \"m1\": nx.DiGraph([(1,2),(1,3)]),\n",
    "  \"m2\": nx.DiGraph([(2,1),(3,1)]),\n",
    "  \"m3\": nx.DiGraph([(1,2),(2,3)]),\n",
    "  \"m4\": nx.DiGraph([(1,2),(2,3),(3,2)]),\n",
    "  \"m5\": nx.DiGraph([(1,2),(1,3),(3,1)]),\n",
    "  \"m6\": nx.DiGraph([(1,2),(2,1),(1,3),(3,1)]),\n",
    "  \"m7\": nx.DiGraph([(1,2),(1,3),(2,3)]),\n",
    "  \"m8\": nx.DiGraph([(1,2),(2,3),(3,1)]),\n",
    "  \"m9\": nx.DiGraph([(2,1),(3,1),(2,3),(3,2)]),\n",
    "  \"m10\": nx.DiGraph([(1,2),(1,3),(2,3),(3,2)]),\n",
    "  \"m11\": nx.DiGraph([(1,2),(2,3),(3,2),(3,1)]),\n",
    "  \"m12\": nx.DiGraph([(1,2),(2,1),(1,3),(3,1),(2,3)]),\n",
    "  \"m13\": nx.DiGraph([(1,2),(2,1),(1,3),(3,1),(2,3),(3,2)]),\n",
    "}"
   ]
  },
  {
   "cell_type": "code",
   "execution_count": 23,
   "metadata": {},
   "outputs": [],
   "source": [
    "# Get input graph.\n",
    "def get_graph():\n",
    "  try:\n",
    "    # Get input graph.\n",
    "    with open(input('Provide path to graph file: '), 'r') as input_graph:\n",
    "      G = nx.read_weighted_edgelist(input_graph, create_using=nx.DiGraph, nodetype = int)\n",
    "    input_graph.close()\n",
    "    \n",
    "    return G\n",
    "  except FileNotFoundError:\n",
    "    print(\"FileNotFoundError: Invalid file or directory. Check the file exists and try again.\")\n",
    "\n",
    "# Get motif of interest.\n",
    "def get_motif():\n",
    "  motifs = open('motifs.txt', 'r')\n",
    "  motif_prompt = motifs.read()\n",
    "  \n",
    "  chosen_motif = input(\n",
    "    motif_prompt + \"\\n\" +\n",
    "    \"Choose one motif listed above (1 - 13) of which you'll change its frequency: \"\n",
    "  )\n",
    "  while not chosen_motif.isnumeric() or int(chosen_motif) < 1 or int(chosen_motif) > 13:\n",
    "    chosen_motif = input(\n",
    "      motif_prompt + \"\\n\" + \"Please enter a number between 1 and 13: \"\n",
    "    )\n",
    "  \n",
    "  motifs.close()\n",
    "  \n",
    "  return f\"m{chosen_motif}\"\n",
    "\n",
    "# Get frequency change (increasing or decreasing).\n",
    "def get_freq_change():\n",
    "  freq = input(\"Increase or decrease frequency of motif? (i or d): \")\n",
    "  while freq != \"i\" and freq != \"d\":\n",
    "    freq = input(\"Please enter i or d: \")\n",
    "    \n",
    "  return freq"
   ]
  },
  {
   "cell_type": "code",
   "execution_count": 24,
   "metadata": {},
   "outputs": [],
   "source": [
    "# Calculate frequency of specified motif in graph G by first finding all 3-node subgraphs\n",
    "# and then determining how many are isomorphic to the specified motif.\n",
    "def motif_freq(G, motif):\n",
    "  vertices = list(G.nodes)\n",
    "  motif = motifs[motif]\n",
    "  triads = itertools.combinations(vertices, 3)\n",
    "\n",
    "  freq = 0\n",
    "  for tri in triads:\n",
    "    subgraph = nx.subgraph(G, tri)\n",
    "    if nx.is_isomorphic(subgraph, motif):\n",
    "      freq += 1\n",
    "  \n",
    "  return freq"
   ]
  },
  {
   "cell_type": "code",
   "execution_count": 25,
   "metadata": {},
   "outputs": [],
   "source": [
    "# Select two random edges from a given edge list.\n",
    "def random_vertices(edges):\n",
    "  u = random.choice(edges)\n",
    "  v = random.choice(\n",
    "    # Enforce selection of two different edges without any shared nodes\n",
    "    [e for e in edges if len(set([u[0], u[1], e[0], e[1]])) == 4]\n",
    "  )\n",
    "  \n",
    "  return u, v\n",
    "\n",
    "# Swap two edges in graph G.\n",
    "def swap_edges(G):\n",
    "  edges = list(G.edges)\n",
    "  u, v = random_vertices(edges)\n",
    "\n",
    "  # Prevent multi-edge\n",
    "  while G.has_edge(u[0], v[1]) or G.has_edge(v[0], u[1]):\n",
    "    u, v = random_vertices(edges)\n",
    "\n",
    "  G.remove_edge(u[0], u[1])\n",
    "  G.remove_edge(v[0], v[1])\n",
    "  \n",
    "  G.add_edge(u[0], v[1])\n",
    "  G.add_edge(v[0], u[1])\n",
    "  \n",
    "  return G, u, v\n",
    "\n",
    "def undo_swap(G, u, v):\n",
    "  G.remove_edge(u[0], v[1])\n",
    "  G.remove_edge(v[0], u[1])\n",
    "  \n",
    "  G.add_edge(u[0], u[1])\n",
    "  G.add_edge(v[0], v[1])\n",
    "  \n",
    "  return G\n",
    "\n",
    "\n",
    "# Randomize graph G using biased link randomization, maintaining degree sequence.\n",
    "def randomize(G, motif, freq_change):\n",
    "  freq = motif_freq(G, motif)\n",
    "  \n",
    "  steps = 10 * G.number_of_edges()\n",
    "  for _ in range(steps):\n",
    "    G, u, v = swap_edges(G)\n",
    "    new_freq = motif_freq(G, motif)\n",
    "    \n",
    "    # Discard edge swap if motif frequency does not change as desired.\n",
    "    if (freq_change == \"i\" and new_freq < freq) \\\n",
    "      or (freq_change == \"d\" and new_freq > freq):\n",
    "      G = undo_swap(G, u, v)\n",
    "  \n",
    "  return G, freq, new_freq\n",
    "\n",
    "# TODO: After randomization, compare the number of occurrences of the motif in the \n",
    "# original network with the number of occurrences in the randomized one:\n",
    "#   - if there are significantly more of the given motif in the original network, \n",
    "#     we can say that it is \"over expressed\",\n",
    "#   - if there are significantly less of the given motif in the original network, \n",
    "#     we can say that it is \"under expressed\".\n",
    "# More details in slides."
   ]
  },
  {
   "cell_type": "code",
   "execution_count": 26,
   "metadata": {},
   "outputs": [],
   "source": [
    "# Return the degree sequence of graph G.\n",
    "def degree_sequence(G):\n",
    "  return [d for _, d in G.degree()]\n",
    "\n",
    "# TODO: Characteristics of interest: changing of network parameters such as the\n",
    "# average clustering coefficient, assortativity coefficient, average shortest\n",
    "# path length, etc., during the randomization."
   ]
  },
  {
   "cell_type": "code",
   "execution_count": 27,
   "metadata": {},
   "outputs": [],
   "source": [
    "def main():\n",
    "  G, motif, freq_change = get_graph(), get_motif(), get_freq_change()\n",
    "  r_G, freq, new_freq = randomize(G, motif, freq_change)\n",
    "  \n",
    "  print(degree_sequence(G) == degree_sequence(r_G))\n",
    "  print(freq, new_freq)"
   ]
  },
  {
   "cell_type": "code",
   "execution_count": 28,
   "metadata": {},
   "outputs": [
    {
     "name": "stdout",
     "output_type": "stream",
     "text": [
      "True\n",
      "11 7\n"
     ]
    }
   ],
   "source": [
    "if __name__ == '__main__':\n",
    "  main()"
   ]
  }
 ],
 "metadata": {
  "interpreter": {
   "hash": "aee8b7b246df8f9039afb4144a1f6fd8d2ca17a180786b69acc140d282b71a49"
  },
  "kernelspec": {
   "display_name": "Python 3.9.9 64-bit",
   "language": "python",
   "name": "python3"
  },
  "language_info": {
   "codemirror_mode": {
    "name": "ipython",
    "version": 3
   },
   "file_extension": ".py",
   "mimetype": "text/x-python",
   "name": "python",
   "nbconvert_exporter": "python",
   "pygments_lexer": "ipython3",
   "version": "3.9.9"
  },
  "orig_nbformat": 4
 },
 "nbformat": 4,
 "nbformat_minor": 2
}
