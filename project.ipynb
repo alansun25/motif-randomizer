{
 "cells": [
  {
   "cell_type": "code",
   "execution_count": 2,
   "metadata": {},
   "outputs": [],
   "source": [
    "import networkx as nx\n",
    "import random"
   ]
  },
  {
   "cell_type": "code",
   "execution_count": 26,
   "metadata": {},
   "outputs": [],
   "source": [
    "def get_user_graph():\n",
    "  with open(input(\"Provide path to graph file: \"), 'r') as input_graph:\n",
    "    G = nx.read_weighted_edgelist(input_graph, create_using=nx.MultiDiGraph, nodetype = int)\n",
    "    return G\n",
    "\n",
    "def switch_edge(G):\n",
    "  edges = list(G.edges)\n",
    "\n",
    "  u = random.choice(edges)\n",
    "  v = random.choice(edges)\n",
    "  while u == v:\n",
    "    v = random.choice(edges)\n",
    "\n",
    "  while (u[0], v[1]) in edges or (v[0], u[1]) in edges:\n",
    "    u = random.choice(edges)\n",
    "    v = random.choice(edges)\n",
    "    while u == v:\n",
    "      v = random.choice(edges)\n",
    "\n",
    "  G.remove_edge(u[0], u[1])\n",
    "  G.remove_edge(v[0], v[1])\n",
    "  \n",
    "  G.add_edge(u[0], v[1])\n",
    "  G.add_edge(v[0], u[1])\n",
    "  \n",
    "  return G\n",
    "\n",
    "def randomize(G):\n",
    "  steps = 10 * G.number_of_edges()\n",
    "  for _ in range(0, steps):\n",
    "    G = switch_edge(G)\n",
    "  \n",
    "  return G\n",
    "\n",
    "def main():\n",
    "  graph = get_user_graph()\n",
    "  degSeq = sorted([d for n, d in graph.degree()])\n",
    "  print(degSeq)\n",
    "  rGraph = randomize(graph)\n",
    "  rDegSeq = sorted([d for n, d in rGraph.degree()])\n",
    "  print(rDegSeq)"
   ]
  },
  {
   "cell_type": "code",
   "execution_count": 27,
   "metadata": {},
   "outputs": [
    {
     "name": "stdout",
     "output_type": "stream",
     "text": [
      "[3, 3, 3, 3, 4, 4, 4, 4, 4, 4, 4, 4, 5, 5, 5, 5, 5, 5, 6, 6, 6, 6, 7, 7, 7, 8, 9, 9, 10, 10, 12, 15]\n",
      "[3, 3, 3, 3, 4, 4, 4, 4, 4, 4, 4, 4, 5, 5, 5, 5, 5, 5, 6, 6, 6, 6, 7, 7, 7, 8, 9, 9, 10, 10, 12, 15]\n"
     ]
    }
   ],
   "source": [
    "main()"
   ]
  },
  {
   "cell_type": "code",
   "execution_count": 11,
   "metadata": {},
   "outputs": [],
   "source": [
    "G = nx.read_weighted_edgelist(\"./input_networks/social_network/leader2inter_st.txt\", \n",
    "                                  create_using=nx.MultiDiGraph, nodetype = int)# "
   ]
  },
  {
   "cell_type": "code",
   "execution_count": 44,
   "metadata": {},
   "outputs": [
    {
     "ename": "NetworkXError",
     "evalue": "double_edge_swap() not defined for directed graphs.",
     "output_type": "error",
     "traceback": [
      "\u001b[0;31m---------------------------------------------------------------------------\u001b[0m",
      "\u001b[0;31mNetworkXError\u001b[0m                             Traceback (most recent call last)",
      "\u001b[1;32m/Users/alansun/School/Spring-2022-AIT/Networks/final project/project.ipynb Cell 5'\u001b[0m in \u001b[0;36m<cell line: 3>\u001b[0;34m()\u001b[0m\n\u001b[1;32m      <a href='vscode-notebook-cell:/Users/alansun/School/Spring-2022-AIT/Networks/final%20project/project.ipynb#ch0000003?line=0'>1</a>\u001b[0m degSeq \u001b[39m=\u001b[39m \u001b[39msorted\u001b[39m([d \u001b[39mfor\u001b[39;00m n, d \u001b[39min\u001b[39;00m G\u001b[39m.\u001b[39mdegree()])\n\u001b[0;32m----> <a href='vscode-notebook-cell:/Users/alansun/School/Spring-2022-AIT/Networks/final%20project/project.ipynb#ch0000003?line=2'>3</a>\u001b[0m nx\u001b[39m.\u001b[39;49mdouble_edge_swap(G)\n\u001b[1;32m      <a href='vscode-notebook-cell:/Users/alansun/School/Spring-2022-AIT/Networks/final%20project/project.ipynb#ch0000003?line=3'>4</a>\u001b[0m \u001b[39m# edges = list(G.edges)\u001b[39;00m\n\u001b[1;32m      <a href='vscode-notebook-cell:/Users/alansun/School/Spring-2022-AIT/Networks/final%20project/project.ipynb#ch0000003?line=4'>5</a>\u001b[0m \n\u001b[1;32m      <a href='vscode-notebook-cell:/Users/alansun/School/Spring-2022-AIT/Networks/final%20project/project.ipynb#ch0000003?line=5'>6</a>\u001b[0m \u001b[39m# u = random.choice(edges)\u001b[39;00m\n\u001b[0;32m   (...)\u001b[0m\n\u001b[1;32m     <a href='vscode-notebook-cell:/Users/alansun/School/Spring-2022-AIT/Networks/final%20project/project.ipynb#ch0000003?line=24'>25</a>\u001b[0m \u001b[39m# G.add_edge(v[0], u[1])\u001b[39;00m\n\u001b[1;32m     <a href='vscode-notebook-cell:/Users/alansun/School/Spring-2022-AIT/Networks/final%20project/project.ipynb#ch0000003?line=25'>26</a>\u001b[0m \u001b[39m# print(\"After:\", G.has_edge(u[0], v[1]), G.has_edge(v[0], u[1]))\u001b[39;00m\n\u001b[1;32m     <a href='vscode-notebook-cell:/Users/alansun/School/Spring-2022-AIT/Networks/final%20project/project.ipynb#ch0000003?line=27'>28</a>\u001b[0m newDegSeq \u001b[39m=\u001b[39m \u001b[39msorted\u001b[39m([d \u001b[39mfor\u001b[39;00m n, d \u001b[39min\u001b[39;00m G\u001b[39m.\u001b[39mdegree()])\n",
      "File \u001b[0;32m/usr/local/lib/python3.9/site-packages/networkx/utils/decorators.py:816\u001b[0m, in \u001b[0;36margmap.__call__.<locals>.func\u001b[0;34m(_argmap__wrapper, *args, **kwargs)\u001b[0m\n\u001b[1;32m    <a href='file:///usr/local/lib/python3.9/site-packages/networkx/utils/decorators.py?line=814'>815</a>\u001b[0m \u001b[39mdef\u001b[39;00m \u001b[39mfunc\u001b[39m(\u001b[39m*\u001b[39margs, __wrapper\u001b[39m=\u001b[39m\u001b[39mNone\u001b[39;00m, \u001b[39m*\u001b[39m\u001b[39m*\u001b[39mkwargs):\n\u001b[0;32m--> <a href='file:///usr/local/lib/python3.9/site-packages/networkx/utils/decorators.py?line=815'>816</a>\u001b[0m     \u001b[39mreturn\u001b[39;00m argmap\u001b[39m.\u001b[39;49m_lazy_compile(__wrapper)(\u001b[39m*\u001b[39;49margs, \u001b[39m*\u001b[39;49m\u001b[39m*\u001b[39;49mkwargs)\n",
      "File \u001b[0;32m<class 'networkx.utils.decorators.argmap'> compilation 21:4\u001b[0m, in \u001b[0;36margmap_double_edge_swap_18\u001b[0;34m(G, nswap, max_tries, seed)\u001b[0m\n\u001b[1;32m      <a href='file:///%3Cclass%20%27networkx.utils.decorators.argmap%27%3E%20compilation%2021?line=1'>2</a>\u001b[0m \u001b[39mfrom\u001b[39;00m \u001b[39mos\u001b[39;00m\u001b[39m.\u001b[39;00m\u001b[39mpath\u001b[39;00m \u001b[39mimport\u001b[39;00m splitext\n\u001b[1;32m      <a href='file:///%3Cclass%20%27networkx.utils.decorators.argmap%27%3E%20compilation%2021?line=2'>3</a>\u001b[0m \u001b[39mfrom\u001b[39;00m \u001b[39mcontextlib\u001b[39;00m \u001b[39mimport\u001b[39;00m contextmanager\n\u001b[0;32m----> <a href='file:///%3Cclass%20%27networkx.utils.decorators.argmap%27%3E%20compilation%2021?line=3'>4</a>\u001b[0m \u001b[39mfrom\u001b[39;00m \u001b[39mpathlib\u001b[39;00m \u001b[39mimport\u001b[39;00m Path\n\u001b[1;32m      <a href='file:///%3Cclass%20%27networkx.utils.decorators.argmap%27%3E%20compilation%2021?line=5'>6</a>\u001b[0m \u001b[39mimport\u001b[39;00m \u001b[39mnetworkx\u001b[39;00m \u001b[39mas\u001b[39;00m \u001b[39mnx\u001b[39;00m\n\u001b[1;32m      <a href='file:///%3Cclass%20%27networkx.utils.decorators.argmap%27%3E%20compilation%2021?line=6'>7</a>\u001b[0m \u001b[39mfrom\u001b[39;00m \u001b[39mnetworkx\u001b[39;00m\u001b[39m.\u001b[39;00m\u001b[39mutils\u001b[39;00m \u001b[39mimport\u001b[39;00m create_random_state, create_py_random_state\n",
      "File \u001b[0;32m/usr/local/lib/python3.9/site-packages/networkx/algorithms/swap.py:53\u001b[0m, in \u001b[0;36mdouble_edge_swap\u001b[0;34m(G, nswap, max_tries, seed)\u001b[0m\n\u001b[1;32m     <a href='file:///usr/local/lib/python3.9/site-packages/networkx/algorithms/swap.py?line=13'>14</a>\u001b[0m \u001b[39m\"\"\"Swap two edges in the graph while keeping the node degrees fixed.\u001b[39;00m\n\u001b[1;32m     <a href='file:///usr/local/lib/python3.9/site-packages/networkx/algorithms/swap.py?line=14'>15</a>\u001b[0m \n\u001b[1;32m     <a href='file:///usr/local/lib/python3.9/site-packages/networkx/algorithms/swap.py?line=15'>16</a>\u001b[0m \u001b[39mA double-edge swap removes two randomly chosen edges u-v and x-y\u001b[39;00m\n\u001b[0;32m   (...)\u001b[0m\n\u001b[1;32m     <a href='file:///usr/local/lib/python3.9/site-packages/networkx/algorithms/swap.py?line=49'>50</a>\u001b[0m \u001b[39mThe graph G is modified in place.\u001b[39;00m\n\u001b[1;32m     <a href='file:///usr/local/lib/python3.9/site-packages/networkx/algorithms/swap.py?line=50'>51</a>\u001b[0m \u001b[39m\"\"\"\u001b[39;00m\n\u001b[1;32m     <a href='file:///usr/local/lib/python3.9/site-packages/networkx/algorithms/swap.py?line=51'>52</a>\u001b[0m \u001b[39mif\u001b[39;00m G\u001b[39m.\u001b[39mis_directed():\n\u001b[0;32m---> <a href='file:///usr/local/lib/python3.9/site-packages/networkx/algorithms/swap.py?line=52'>53</a>\u001b[0m     \u001b[39mraise\u001b[39;00m nx\u001b[39m.\u001b[39mNetworkXError(\u001b[39m\"\u001b[39m\u001b[39mdouble_edge_swap() not defined for directed graphs.\u001b[39m\u001b[39m\"\u001b[39m)\n\u001b[1;32m     <a href='file:///usr/local/lib/python3.9/site-packages/networkx/algorithms/swap.py?line=53'>54</a>\u001b[0m \u001b[39mif\u001b[39;00m nswap \u001b[39m>\u001b[39m max_tries:\n\u001b[1;32m     <a href='file:///usr/local/lib/python3.9/site-packages/networkx/algorithms/swap.py?line=54'>55</a>\u001b[0m     \u001b[39mraise\u001b[39;00m nx\u001b[39m.\u001b[39mNetworkXError(\u001b[39m\"\u001b[39m\u001b[39mNumber of swaps > number of tries allowed.\u001b[39m\u001b[39m\"\u001b[39m)\n",
      "\u001b[0;31mNetworkXError\u001b[0m: double_edge_swap() not defined for directed graphs."
     ]
    }
   ],
   "source": [
    "degSeq = sorted([d for n, d in G.degree()])\n",
    "edges = list(G.edges)\n",
    "\n",
    "u = random.choice(edges)\n",
    "v = random.choice([e for e in edges if e != u])\n",
    "\n",
    "while G.has_edge(u[0], v[1]) or G.has_edge(v[0], u[1]):\n",
    "  u = random.choice(edges)\n",
    "  v = random.choice([e for e in edges if e != u])\n",
    "\n",
    "# Check\n",
    "print(\"-- Original Edges --\")\n",
    "print(u, v)\n",
    "print(\"Before:\", u in edges, v in edges)\n",
    "G.remove_edge(u[0], u[1])\n",
    "G.remove_edge(v[0], v[1])\n",
    "print(\"After:\", G.has_edge(u[0], u[1]), G.has_edge(v[0], v[1]))\n",
    "\n",
    "print(\"-- New Edges --\")\n",
    "print((u[0], v[1]), (v[0], u[1]))\n",
    "print(\"Before:\", (u[0], v[1]) in edges, (v[0], u[1]) in edges)\n",
    "G.add_edge(u[0], v[1])\n",
    "G.add_edge(v[0], u[1])\n",
    "print(\"After:\", G.has_edge(u[0], v[1]), G.has_edge(v[0], u[1]))\n",
    "\n",
    "newDegSeq = sorted([d for n, d in G.degree()])\n",
    "\n",
    "print(\"Degree sequences match?\", newDegSeq == degSeq)"
   ]
  }
 ],
 "metadata": {
  "interpreter": {
   "hash": "aee8b7b246df8f9039afb4144a1f6fd8d2ca17a180786b69acc140d282b71a49"
  },
  "kernelspec": {
   "display_name": "Python 3.9.9 64-bit",
   "language": "python",
   "name": "python3"
  },
  "language_info": {
   "codemirror_mode": {
    "name": "ipython",
    "version": 3
   },
   "file_extension": ".py",
   "mimetype": "text/x-python",
   "name": "python",
   "nbconvert_exporter": "python",
   "pygments_lexer": "ipython3",
   "version": "3.9.9"
  },
  "orig_nbformat": 4
 },
 "nbformat": 4,
 "nbformat_minor": 2
}
