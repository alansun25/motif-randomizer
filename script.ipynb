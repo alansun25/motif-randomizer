{
 "cells": [
  {
   "cell_type": "code",
   "execution_count": 359,
   "metadata": {},
   "outputs": [],
   "source": [
    "import networkx as nx\n",
    "import random\n",
    "import itertools as it\n",
    "import matplotlib.pyplot as plt\n",
    "\n",
    "# networkx DiGraph representations of the drawn motifs in motifs.txt.\n",
    "motifs = {\n",
    "  \"m1\": nx.DiGraph([(1,2),(1,3)]),\n",
    "  \"m2\": nx.DiGraph([(2,1),(3,1)]),\n",
    "  \"m3\": nx.DiGraph([(1,2),(2,3)]),\n",
    "  \"m4\": nx.DiGraph([(1,2),(2,3),(3,2)]),\n",
    "  \"m5\": nx.DiGraph([(1,2),(1,3),(3,1)]),\n",
    "  \"m6\": nx.DiGraph([(1,2),(2,1),(1,3),(3,1)]),\n",
    "  \"m7\": nx.DiGraph([(1,2),(1,3),(2,3)]),\n",
    "  \"m8\": nx.DiGraph([(1,2),(2,3),(3,1)]),\n",
    "  \"m9\": nx.DiGraph([(2,1),(3,1),(2,3),(3,2)]),\n",
    "  \"m10\": nx.DiGraph([(1,2),(1,3),(2,3),(3,2)]),\n",
    "  \"m11\": nx.DiGraph([(1,2),(2,3),(3,2),(3,1)]),\n",
    "  \"m12\": nx.DiGraph([(1,2),(2,1),(1,3),(3,1),(2,3)]),\n",
    "  \"m13\": nx.DiGraph([(1,2),(2,1),(1,3),(3,1),(2,3),(3,2)]),\n",
    "}"
   ]
  },
  {
   "cell_type": "code",
   "execution_count": 360,
   "metadata": {},
   "outputs": [],
   "source": [
    "# Get input graph.\n",
    "def get_graph():\n",
    "  try:\n",
    "    # Get input graph.\n",
    "    with open(input('Provide path to graph file: '), 'r') as input_graph:\n",
    "      G = nx.read_weighted_edgelist(input_graph, create_using=nx.DiGraph, nodetype = int)\n",
    "    input_graph.close()\n",
    "    \n",
    "    return G\n",
    "  except FileNotFoundError:\n",
    "    print(\"FileNotFoundError: Invalid file or directory. Check the file exists and try again.\")\n",
    "\n",
    "# Get motif of interest.\n",
    "def get_motif():\n",
    "  motifs = open('./motifs/motifs.txt', 'r')\n",
    "  motif_prompt = motifs.read()\n",
    "  \n",
    "  chosen_motif = input(\n",
    "    motif_prompt + \"\\n\" +\n",
    "    \"Choose one motif listed above (1 - 13) of which you'll change its frequency: \"\n",
    "  )\n",
    "  while not chosen_motif.isnumeric() or int(chosen_motif) < 1 or int(chosen_motif) > 13:\n",
    "    chosen_motif = input(\n",
    "      motif_prompt + \"\\n\" + \"Please enter a number between 1 and 13: \"\n",
    "    )\n",
    "  \n",
    "  motifs.close()\n",
    "  \n",
    "  return f\"m{chosen_motif}\"\n",
    "\n",
    "# Get frequency change (increasing or decreasing).\n",
    "def get_freq_change():\n",
    "  freq = input(\"Increase or decrease frequency of motif? (i or d): \")\n",
    "  while freq != \"i\" and freq != \"d\":\n",
    "    freq = input(\"Please enter i or d: \")\n",
    "    \n",
    "  return freq"
   ]
  },
  {
   "cell_type": "code",
   "execution_count": 361,
   "metadata": {},
   "outputs": [],
   "source": [
    "# Check that the given triad could be a motif in graph G.\n",
    "def connected_triad(G, tri):\n",
    "  u, v, w = tri[0], tri[1], tri[2]\n",
    "  uv = G.number_of_edges(u, v) > 0 or G.number_of_edges(v, u) > 0\n",
    "  vw = G.number_of_edges(v, w) > 0 or G.number_of_edges(w, v) > 0\n",
    "  uw = G.number_of_edges(u, w) > 0 or G.number_of_edges(w, u) > 0\n",
    "  \n",
    "  # Accounts for all triads with 3 edges as well.\n",
    "  connected = (uv and vw) or (uw and vw) or (uv and uw)\n",
    "  \n",
    "  return connected\n",
    "\n",
    "# Calculate frequency of specified motif in a subgraph of G induced \n",
    "# by the specified neighborhood.\n",
    "def motif_freq(G, motif, neighborhood):\n",
    "  motif = motifs[motif]\n",
    "  \n",
    "  # Get unique triads in the neighborhood.\n",
    "  triads = it.combinations(neighborhood, 3)\n",
    "  \n",
    "  # Filter out triads that aren't connected and thus cannot be motifs.\n",
    "  triads = [t for t in triads if connected_triad(G, t)]\n",
    "\n",
    "  freq = 0\n",
    "  for tri in triads:\n",
    "    subgraph = G.subgraph(tri)\n",
    "    if nx.is_isomorphic(subgraph, motif):\n",
    "      freq += 1\n",
    "  \n",
    "  return freq"
   ]
  },
  {
   "cell_type": "code",
   "execution_count": 362,
   "metadata": {},
   "outputs": [],
   "source": [
    "# Select two random edges from a given edge list.\n",
    "def random_edges(edges):\n",
    "  u = random.choice(edges)\n",
    "  v = random.choice(edges)\n",
    "  \n",
    "  # Ensure u and v do not share nodes.\n",
    "  while u[0] in v or u[1] in v:\n",
    "    v = random.choice(edges)\n",
    "  \n",
    "  return u, v\n",
    "\n",
    "# Get the neighborhood comprised of the nodes on edges u and v and each of their\n",
    "# adjacent neighbors (in and out). \n",
    "def get_neighborhood(G, u, v):\n",
    "  u0_neighbors = list(G.successors(u[0])) + list(G.predecessors(u[0]))\n",
    "  u1_neighbors = list(G.successors(u[1])) + list(G.predecessors(u[1]))\n",
    "  v0_neighbors = list(G.successors(v[0])) + list(G.predecessors(v[0]))\n",
    "  v1_neighbors = list(G.successors(v[1])) + list(G.predecessors(v[1]))\n",
    "  \n",
    "  neighborhood = set(list(u) + list(v) + u0_neighbors + \n",
    "                     u1_neighbors + v0_neighbors + v1_neighbors)\n",
    "  \n",
    "  return neighborhood\n",
    "\n",
    "# Undo a previous edge swap.\n",
    "def undo_swap(G, u, v):\n",
    "  G.remove_edge(u[0], v[1])\n",
    "  G.remove_edge(v[0], u[1])\n",
    "  \n",
    "  G.add_edge(u[0], u[1])\n",
    "  G.add_edge(v[0], v[1])\n",
    "  \n",
    "  return G\n",
    "\n",
    "# Swap two edges in graph G.\n",
    "def swap_edges(G, motif, freq_change):\n",
    "  edges = list(G.edges)\n",
    "  u, v = random_edges(edges)\n",
    "\n",
    "  # Prevent multi-edge\n",
    "  while G.has_edge(u[0], v[1]) or G.has_edge(v[0], u[1]):\n",
    "    u, v = random_edges(edges)\n",
    "    \n",
    "  neighborhood = get_neighborhood(G, u, v)\n",
    "  \n",
    "  mf_before_swap = motif_freq(G, motif, neighborhood)\n",
    "\n",
    "  G.remove_edge(u[0], u[1])\n",
    "  G.remove_edge(v[0], v[1])\n",
    "  \n",
    "  G.add_edge(u[0], v[1])\n",
    "  G.add_edge(v[0], u[1])\n",
    "\n",
    "  mf_after_swap = motif_freq(G, motif, neighborhood)\n",
    "  \n",
    "  # Discard edge swap if motif frequency does not change as desired.\n",
    "  if (freq_change == \"i\" and mf_after_swap < mf_before_swap) or \\\n",
    "    (freq_change == \"d\" and mf_after_swap > mf_before_swap):\n",
    "      G = undo_swap(G, u, v)\n",
    "  \n",
    "  return G\n",
    "\n",
    "\n",
    "# Randomize graph G using biased link randomization, maintaining degree sequence.\n",
    "def randomize(G, motif, freq_change):\n",
    "  # Network parameters\n",
    "  parameters = {\n",
    "    \"avg_clust\": [nx.average_clustering(G)],\n",
    "    \"asst_coef\": [nx.degree_pearson_correlation_coefficient(G)],\n",
    "    \"avg_spath\": [nx.average_shortest_path_length(G)]\n",
    "  }\n",
    "  \n",
    "  steps = 10 * G.number_of_edges()\n",
    "  for _ in range(steps):\n",
    "    G = swap_edges(G, motif, freq_change)\n",
    "    parameters[\"avg_clust\"].append(nx.average_clustering(G))\n",
    "    parameters[\"asst_coef\"].append(nx.degree_pearson_correlation_coefficient(G))\n",
    "    parameters[\"avg_spath\"].append(nx.average_shortest_path_length(G))\n",
    "  \n",
    "  return G, parameters"
   ]
  },
  {
   "cell_type": "code",
   "execution_count": 363,
   "metadata": {},
   "outputs": [],
   "source": [
    "# Return the degree sequence of graph G.\n",
    "def degree_sequence(G):\n",
    "  return [d for _, d in G.degree()]"
   ]
  },
  {
   "cell_type": "code",
   "execution_count": 364,
   "metadata": {},
   "outputs": [],
   "source": [
    "def visualize_parameters(parameters):\n",
    "  i = 4\n",
    "  for k, v in parameters.items():\n",
    "    plt.figure(i)\n",
    "    plt.plot(v)\n",
    "    plt.savefig(f\"./output/{k}.jpg\")\n",
    "    plt.close()\n",
    "    i += 1"
   ]
  },
  {
   "cell_type": "code",
   "execution_count": 365,
   "metadata": {},
   "outputs": [],
   "source": [
    "def main():\n",
    "  G, motif, freq_change = get_graph(), get_motif(), get_freq_change()\n",
    "\n",
    "  plt.figure(1)\n",
    "  plt.hist(list(nx.betweenness_centrality(G).values()))  \n",
    "  plt.savefig(\"betweenness.jpg\")\n",
    "  \n",
    "  plt.figure(2)\n",
    "  plt.hist(list(nx.closeness_centrality(G).values()))  \n",
    "  plt.savefig(\"closeness.jpg\")\n",
    "  \n",
    "  plt.figure(3)\n",
    "  plt.hist(list(nx.pagerank(G).values()))\n",
    "  plt.savefig(\"pagerank.jpg\")\n",
    "  \n",
    "  r_G, parameters = randomize(G.copy(), motif, freq_change)\n",
    "  \n",
    "  visualize_parameters(parameters)\n",
    "  # TODO: Visualize the networks themselves, and the change in motif frequency during randomization\n",
    "  \n",
    "  print(motif_freq(G, motif, list(G.nodes)), motif_freq(r_G, motif, list(r_G.nodes)))\n",
    "\n",
    "  # After randomization, compare the number of occurrences of the motif in the \n",
    "  # original network with the number of occurrences in the randomized one:\n",
    "  #   - if there are significantly more of the given motif in the original network, \n",
    "  #     we can say that it is \"over expressed\",\n",
    "  #   - if there are significantly less of the given motif in the original network, \n",
    "  #     we can say that it is \"under expressed\".\n",
    "  # More details in slides."
   ]
  },
  {
   "cell_type": "code",
   "execution_count": 366,
   "metadata": {},
   "outputs": [
    {
     "name": "stdout",
     "output_type": "stream",
     "text": [
      "True\n",
      "11 73\n"
     ]
    },
    {
     "data": {
      "image/png": "[encoded data removed]",
      "text/plain": [
       "<Figure size 432x288 with 1 Axes>"
      ]
     },
     "metadata": {
      "needs_background": "light"
     },
     "output_type": "display_data"
    },
    {
     "data": {
      "image/png": "[encoded data removed]",
      "text/plain": [
       "<Figure size 432x288 with 1 Axes>"
      ]
     },
     "metadata": {
      "needs_background": "light"
     },
     "output_type": "display_data"
    },
    {
     "data": {
      "image/png": "[encoded data removed]",
      "text/plain": [
       "<Figure size 432x288 with 1 Axes>"
      ]
     },
     "metadata": {
      "needs_background": "light"
     },
     "output_type": "display_data"
    }
   ],
   "source": [
    "if __name__ == '__main__':\n",
    "  main()"
   ]
  }
 ],
 "metadata": {
  "interpreter": {
   "hash": "aee8b7b246df8f9039afb4144a1f6fd8d2ca17a180786b69acc140d282b71a49"
  },
  "kernelspec": {
   "display_name": "Python 3.9.9 64-bit",
   "language": "python",
   "name": "python3"
  },
  "language_info": {
   "codemirror_mode": {
    "name": "ipython",
    "version": 3
   },
   "file_extension": ".py",
   "mimetype": "text/x-python",
   "name": "python",
   "nbconvert_exporter": "python",
   "pygments_lexer": "ipython3",
   "version": "3.9.9"
  },
  "orig_nbformat": 4
 },
 "nbformat": 4,
 "nbformat_minor": 2
}
